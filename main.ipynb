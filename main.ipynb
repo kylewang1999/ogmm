{
 "cells": [
  {
   "cell_type": "code",
   "execution_count": 1,
   "metadata": {},
   "outputs": [
    {
     "name": "stdout",
     "output_type": "stream",
     "text": [
      "Jupyter environment detected. Enabling Open3D WebVisualizer.\n",
      "[Open3D INFO] WebRTC GUI backend enabled.\n",
      "[Open3D INFO] WebRTCWindowSystem: HTTP handshake server disabled.\n",
      "./results/checkpoints/lr_1e-4/models/optim_model.pt\n"
     ]
    }
   ],
   "source": [
    "%load_ext autoreload\n",
    "%autoreload 2\n",
    "import logging, os, torch, numpy as np, torch, torch.nn as nn, torchvision\n",
    "from torch.utils.data import DataLoader\n",
    "from time import time; from tqdm import tqdm\n",
    "from collections import defaultdict\n",
    "from lib.loss import dcp_loss, get_weighted_bce_loss\n",
    "from lib.metric import rotation_error, translation_error, dcp_metrics, summarize_metrics, save_model, _init_\n",
    "from lib.se3 import decompose_trans\n",
    "\n",
    "from models.gmmreg import GMMReg\n",
    "from train import *\n",
    "from configs.cfgs import get_parser\n",
    "from datasets.dataloader import data_loader\n",
    "from datasets.modelnet import *\n",
    "\n",
    "torch.backends.cudnn.deterministic = True\n",
    "torch.backends.cudnn.benchmark = False\n",
    "torch.backends.cudnn.enabled = False\n",
    "\n",
    "args = get_parser().parse_args([\n",
    "    '--root', '~/Desktop/data/',\n",
    "    '--batch_size', '48',\n",
    "    '--epochs', '50',\n",
    "    '--lr', '1e-4',\n",
    "    '--exp_name', 'lr_1e-4'\n",
    "])\n",
    "\n",
    "\n",
    "'''Init model'''\n",
    "model = GMMReg(args.emb_dims, args.n_clusters, args).cuda()\n",
    "\n",
    "\n",
    "train_transforms, val_transforms = \\\n",
    "    get_transforms(args.noise_type, args.rot_mag, args.trans_mag, args.n_points, args.partial)\n",
    "train_transforms = torchvision.transforms.Compose(train_transforms)\n",
    "val_transforms = torchvision.transforms.Compose(val_transforms)\n",
    "train_data = ModelNetHdf(args, args.root, partition='train', unseen=args.unseen, transform=train_transforms)\n",
    "\n",
    "item = train_data.__getitem__(0)\n",
    "item"
   ]
  }
 ],
 "metadata": {
  "kernelspec": {
   "display_name": "ogmm",
   "language": "python",
   "name": "python3"
  },
  "language_info": {
   "codemirror_mode": {
    "name": "ipython",
    "version": 3
   },
   "file_extension": ".py",
   "mimetype": "text/x-python",
   "name": "python",
   "nbconvert_exporter": "python",
   "pygments_lexer": "ipython3",
   "version": "3.8.8"
  },
  "orig_nbformat": 4
 },
 "nbformat": 4,
 "nbformat_minor": 2
}
