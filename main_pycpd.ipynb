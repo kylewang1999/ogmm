{
 "cells": [
  {
   "cell_type": "code",
   "execution_count": 1,
   "metadata": {},
   "outputs": [
    {
     "name": "stdout",
     "output_type": "stream",
     "text": [
      "Target Points: \n",
      " [[0.  0. ]\n",
      " [0.  1. ]\n",
      " [1.  0. ]\n",
      " [1.  1. ]\n",
      " [0.5 0. ]\n",
      " [0.  0.5]]\n",
      "Source Points: \n",
      " [[1.  0. ]\n",
      " [1.  1. ]\n",
      " [2.  0. ]\n",
      " [2.  1. ]\n",
      " [1.5 0. ]\n",
      " [1.  0.5]]\n"
     ]
    }
   ],
   "source": [
    "from pycpd import RigidRegistration\n",
    "import numpy as np\n",
    "\n",
    "# create 2D target points (you can get these from any source you desire)\n",
    "# creating a square w/ 2 additional points.\n",
    "target = np.array([[0, 0], [0, 1], [1, 0], [1, 1], [0.5, 0], [0, 0.5]])\n",
    "print('Target Points: \\n', target)\n",
    "\n",
    "# create a translation to apply to the target for testing the registration\n",
    "translation = [1, 0]\n",
    "\n",
    "# create a fake source by adding a translation to the target.\n",
    "# in a real use, you would load the source points from a file or other source.\n",
    "# the only requirement is that this array also be 2-dimensional and that the\n",
    "# second dimension be the same length as the second dimension of the target array.\n",
    "source = target + translation\n",
    "print('Source Points: \\n', source)\n",
    "\n",
    "# create a RigidRegistration object\n",
    "reg = RigidRegistration(X=target, Y=source)\n",
    "# run the registration & collect the results\n",
    "TY, (s_reg, R_reg, t_reg) = reg.register()\n",
    "\n",
    "# TY is the transformed source points\n",
    "# the values in () are the registration parameters.\n",
    "# In this case of rigid registration they are:\n",
    "#     s_reg the scale of the registration\n",
    "#     R_reg the rotation matrix of the registration\n",
    "#     t_reg the translation of the registration"
   ]
  }
 ],
 "metadata": {
  "kernelspec": {
   "display_name": "probreg",
   "language": "python",
   "name": "python3"
  },
  "language_info": {
   "codemirror_mode": {
    "name": "ipython",
    "version": 3
   },
   "file_extension": ".py",
   "mimetype": "text/x-python",
   "name": "python",
   "nbconvert_exporter": "python",
   "pygments_lexer": "ipython3",
   "version": "3.8.8"
  },
  "orig_nbformat": 4
 },
 "nbformat": 4,
 "nbformat_minor": 2
}
